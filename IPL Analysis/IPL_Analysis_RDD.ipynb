{
  "nbformat": 4,
  "nbformat_minor": 0,
  "metadata": {
    "colab": {
      "name": "IPL Analysis - RDD.ipynb",
      "provenance": [],
      "collapsed_sections": [
        "SSNoeosNDJF0"
      ]
    },
    "kernelspec": {
      "name": "python3",
      "display_name": "Python 3"
    },
    "language_info": {
      "name": "python"
    }
  },
  "cells": [
    {
      "cell_type": "markdown",
      "source": [
        "# Setup"
      ],
      "metadata": {
        "id": "SSNoeosNDJF0"
      }
    },
    {
      "cell_type": "code",
      "source": [
        "from google.colab import drive\n",
        "drive.mount('/content/drive')\n",
        "\n",
        "!wget https://dlcdn.apache.org/spark/spark-3.3.0/spark-3.3.0-bin-hadoop3.tgz\n",
        "!tar -xvzf spark-3.3.0-bin-hadoop3.tgz\n",
        "!pip install findspark\n",
        "\n",
        "import os\n",
        "os.environ[\"SPARK_HOME\"] = \"/content/spark-3.3.0-bin-hadoop3\"\n",
        "import findspark\n",
        "findspark.init()\n",
        "\n",
        "from pyspark import SparkConf, SparkContext\n",
        "config = SparkConf().setAppName(\"IPL Analysis\")\n",
        "sc = SparkContext(conf=config).getOrCreate()\n",
        "\n",
        "from IPython.display import clear_output \n",
        "clear_output()\n",
        "\n",
        "print(sc.appName ,\"is Running..\")"
      ],
      "metadata": {
        "colab": {
          "base_uri": "https://localhost:8080/"
        },
        "id": "rNLBKdI9NRlJ",
        "outputId": "bc729ebd-b16e-4644-9280-ad03f441c6b1"
      },
      "execution_count": 1,
      "outputs": [
        {
          "output_type": "stream",
          "name": "stdout",
          "text": [
            "IPL Analysis is Running..\n"
          ]
        }
      ]
    },
    {
      "cell_type": "markdown",
      "source": [
        "# Data Exploration"
      ],
      "metadata": {
        "id": "Lv7IBAvZDEd3"
      }
    },
    {
      "cell_type": "code",
      "source": [
        "from operator import add"
      ],
      "metadata": {
        "id": "ZEeHGYIZq0Ga"
      },
      "execution_count": 2,
      "outputs": []
    },
    {
      "cell_type": "code",
      "source": [
        "r1 = sc.textFile(\"/content/drive/MyDrive/Colab Notebooks/SparkData/IPL Matches.csv\")"
      ],
      "metadata": {
        "id": "0PtLab_ONxk6"
      },
      "execution_count": 3,
      "outputs": []
    },
    {
      "cell_type": "code",
      "source": [
        "r1.first() # Column names"
      ],
      "metadata": {
        "colab": {
          "base_uri": "https://localhost:8080/",
          "height": 36
        },
        "id": "T4g6IVsTO3ur",
        "outputId": "db0882c7-25b2-4b83-983f-6d91fb99a952"
      },
      "execution_count": 4,
      "outputs": [
        {
          "output_type": "execute_result",
          "data": {
            "text/plain": [
              "'id,city,date,player_of_match,venue,neutral_venue,team1,team2,toss_winner,toss_decision,winner,result,result_margin,eliminator,method,umpire1,umpire2'"
            ],
            "application/vnd.google.colaboratory.intrinsic+json": {
              "type": "string"
            }
          },
          "metadata": {},
          "execution_count": 4
        }
      ]
    },
    {
      "cell_type": "code",
      "source": [
        "r2 = r1.subtract(sc.parallelize(r1.take(1))) # Removing Header row"
      ],
      "metadata": {
        "id": "LFu6T5MbQrxb"
      },
      "execution_count": 5,
      "outputs": []
    },
    {
      "cell_type": "code",
      "source": [
        "r2.count()"
      ],
      "metadata": {
        "colab": {
          "base_uri": "https://localhost:8080/"
        },
        "id": "MpfOq5WIOvgh",
        "outputId": "92a83355-7f77-43dc-9d0c-4b3a94339564"
      },
      "execution_count": 6,
      "outputs": [
        {
          "output_type": "execute_result",
          "data": {
            "text/plain": [
              "816"
            ]
          },
          "metadata": {},
          "execution_count": 6
        }
      ]
    },
    {
      "cell_type": "code",
      "source": [
        "r2.take(10)"
      ],
      "metadata": {
        "colab": {
          "base_uri": "https://localhost:8080/"
        },
        "id": "Bf0H5nGPOu-5",
        "outputId": "b2b4b22d-9fd0-43f9-f94f-ef06fc443a87"
      },
      "execution_count": 7,
      "outputs": [
        {
          "output_type": "execute_result",
          "data": {
            "text/plain": [
              "['335984,Delhi,2008-04-19,MF Maharoof,Feroz Shah Kotla,0,Delhi Daredevils,Rajasthan Royals,Rajasthan Royals,bat,Delhi Daredevils,wickets,9,N,NA,Aleem Dar,GA Pratapkumar',\n",
              " '335998,Delhi,2008-04-30,GD McGrath,Feroz Shah Kotla,0,Delhi Daredevils,Royal Challengers Bangalore,Royal Challengers Bangalore,field,Delhi Daredevils,runs,10,N,NA,Aleem Dar,I Shivram',\n",
              " '336005,Jaipur,2008-05-04,Sohail Tanvir,Sawai Mansingh Stadium,0,Rajasthan Royals,Chennai Super Kings,Chennai Super Kings,bat,Rajasthan Royals,wickets,8,N,NA,Asad Rauf,AV Jayaprakash',\n",
              " '336008,Mumbai,2008-05-07,A Nehra,Dr DY Patil Sports Academy,0,Mumbai Indians,Rajasthan Royals,Mumbai Indians,field,Mumbai Indians,wickets,7,N,NA,DJ Harper,RE Koertzen',\n",
              " '336017,Kolkata,2008-05-13,Shoaib Akhtar,Eden Gardens,0,Kolkata Knight Riders,Delhi Daredevils,Kolkata Knight Riders,bat,Kolkata Knight Riders,runs,23,N,NA,Asad Rauf,IL Howell',\n",
              " '336024,Hyderabad,2008-05-18,DJ Bravo,\"Rajiv Gandhi International Stadium, Uppal\",0,Deccan Chargers,Mumbai Indians,Deccan Chargers,field,Mumbai Indians,runs,25,N,NA,BR Doctrove,DJ Harper',\n",
              " '336025,Kolkata,2008-05-18,M Ntini,Eden Gardens,0,Kolkata Knight Riders,Chennai Super Kings,Kolkata Knight Riders,bat,Chennai Super Kings,runs,3,N,D/L,Asad Rauf,K Hariharan',\n",
              " '336027,Kolkata,2008-05-20,YK Pathan,Eden Gardens,0,Kolkata Knight Riders,Rajasthan Royals,Rajasthan Royals,field,Rajasthan Royals,wickets,6,N,NA,BG Jerling,RE Koertzen',\n",
              " '336028,Mumbai,2008-05-21,SE Marsh,Wankhede Stadium,0,Mumbai Indians,Kings XI Punjab,Mumbai Indians,field,Kings XI Punjab,runs,1,N,NA,BF Bowden,GA Pratapkumar',\n",
              " '336029,Chennai,2008-05-21,A Kumble,\"MA Chidambaram Stadium, Chepauk\",0,Chennai Super Kings,Royal Challengers Bangalore,Royal Challengers Bangalore,bat,Royal Challengers Bangalore,runs,14,N,NA,DJ Harper,I Shivram']"
            ]
          },
          "metadata": {},
          "execution_count": 7
        }
      ]
    },
    {
      "cell_type": "markdown",
      "source": [
        "# Counting the number of matches played in each city."
      ],
      "metadata": {
        "id": "Lr6gFClKBHlT"
      }
    },
    {
      "cell_type": "code",
      "source": [
        "r3=r2.map(lambda row:row.split(\",\")[1])\n",
        "r3=r3.map(lambda city:(city,1))\n",
        "r3=r3.reduceByKey(add)\n",
        "r3=r3.sortBy(lambda x: x[1], ascending = False)\n",
        "\n",
        "r3.collect()"
      ],
      "metadata": {
        "colab": {
          "base_uri": "https://localhost:8080/"
        },
        "id": "4niev0H-p8H3",
        "outputId": "f7f0dbda-70a7-4354-dd58-c24ac7a822e8"
      },
      "execution_count": 8,
      "outputs": [
        {
          "output_type": "execute_result",
          "data": {
            "text/plain": [
              "[('Mumbai', 101),\n",
              " ('Kolkata', 77),\n",
              " ('Delhi', 74),\n",
              " ('Bangalore', 65),\n",
              " ('Hyderabad', 64),\n",
              " ('Chennai', 57),\n",
              " ('Chandigarh', 56),\n",
              " ('Jaipur', 47),\n",
              " ('Pune', 38),\n",
              " ('Abu Dhabi', 29),\n",
              " ('Dubai', 26),\n",
              " ('Bengaluru', 15),\n",
              " ('Durban', 15),\n",
              " ('Visakhapatnam', 13),\n",
              " ('NA', 13),\n",
              " ('Centurion', 12),\n",
              " ('Sharjah', 12),\n",
              " ('Ahmedabad', 12),\n",
              " ('Rajkot', 10),\n",
              " ('Dharamsala', 9),\n",
              " ('Indore', 9),\n",
              " ('Johannesburg', 8),\n",
              " ('Port Elizabeth', 7),\n",
              " ('Cuttack', 7),\n",
              " ('Cape Town', 7),\n",
              " ('Ranchi', 7),\n",
              " ('Raipur', 6),\n",
              " ('Kochi', 5),\n",
              " ('Kanpur', 4),\n",
              " ('Nagpur', 3),\n",
              " ('Kimberley', 3),\n",
              " ('East London', 3),\n",
              " ('Bloemfontein', 2)]"
            ]
          },
          "metadata": {},
          "execution_count": 8
        }
      ]
    },
    {
      "cell_type": "markdown",
      "source": [
        "# Counting the number of matches won by each team in 2014."
      ],
      "metadata": {
        "id": "IizZyzhABOtg"
      }
    },
    {
      "cell_type": "code",
      "source": [
        "r4=r2.filter(lambda row: '2014' in row.split(\",\")[2])\n",
        "r4=r4.filter(lambda row:row.split(\",\")[10] not in ['field','bat'])\n",
        "r4=r4.map(lambda row:row.split(\",\")[10])\n",
        "r4=r4.map(lambda team:(team,1))\n",
        "r4=r4.reduceByKey(add)\n",
        "r4=r4.sortBy(lambda x: x[1], ascending = False)\n",
        "\n",
        "r4.collect()"
      ],
      "metadata": {
        "colab": {
          "base_uri": "https://localhost:8080/"
        },
        "id": "NdoU_WwnrYJx",
        "outputId": "e5ff258a-7919-456d-f2b4-b92bb84cbf3b"
      },
      "execution_count": 13,
      "outputs": [
        {
          "output_type": "execute_result",
          "data": {
            "text/plain": [
              "[('Chennai Super Kings', 10),\n",
              " ('Kolkata Knight Riders', 10),\n",
              " ('Kings XI Punjab', 9),\n",
              " ('Royal Challengers Bangalore', 5),\n",
              " ('Rajasthan Royals', 5),\n",
              " ('Sunrisers Hyderabad', 4),\n",
              " ('Mumbai Indians', 4),\n",
              " ('Delhi Daredevils', 2)]"
            ]
          },
          "metadata": {},
          "execution_count": 13
        }
      ]
    },
    {
      "cell_type": "markdown",
      "source": [
        "# Finding the Player who won the most MOM award."
      ],
      "metadata": {
        "id": "AeHjCVAnBfkY"
      }
    },
    {
      "cell_type": "code",
      "source": [
        "r5=r2.map(lambda row:row.split(\",\")[3])\n",
        "r5=r5.map(lambda city:(city,1))\n",
        "r5=r5.reduceByKey(add)\n",
        "r5=r5.sortBy(lambda x: x[1], ascending = False)\n",
        "\n",
        "r5.first()"
      ],
      "metadata": {
        "colab": {
          "base_uri": "https://localhost:8080/"
        },
        "id": "DYAR74Dlu2Y0",
        "outputId": "f11c336f-1378-4169-be82-bb615edc3fd8"
      },
      "execution_count": 10,
      "outputs": [
        {
          "output_type": "execute_result",
          "data": {
            "text/plain": [
              "('AB de Villiers', 23)"
            ]
          },
          "metadata": {},
          "execution_count": 10
        }
      ]
    },
    {
      "cell_type": "markdown",
      "source": [
        "# Find the top 10 umpires who was present in most of the matches."
      ],
      "metadata": {
        "id": "bMX4sDBaBufd"
      }
    },
    {
      "cell_type": "code",
      "source": [
        "r61=r2.map(lambda row:row.split(\",\")[15])\n",
        "r62=r2.map(lambda row:row.split(\",\")[16])\n",
        "r61=r61.filter(lambda umpire:umpire!='NA')\n",
        "r62=r62.filter(lambda umpire:umpire!='NA')\n",
        "r61=r61.map(lambda umpire:(umpire,1))\n",
        "r62=r62.map(lambda umpire:(umpire,1))\n",
        "r6=r61.union(r62)\n",
        "r6=r6.reduceByKey(add)\n",
        "r6=r6.sortBy(lambda x: x[1], ascending = False)\n",
        "\n",
        "r6.take(10)"
      ],
      "metadata": {
        "colab": {
          "base_uri": "https://localhost:8080/"
        },
        "id": "tgRsNefNwih6",
        "outputId": "c17b5fa6-3f5d-4b54-f8e9-5d49629f28fb"
      },
      "execution_count": 11,
      "outputs": [
        {
          "output_type": "execute_result",
          "data": {
            "text/plain": [
              "[('S Ravi', 105),\n",
              " ('HDPK Dharmasena', 90),\n",
              " ('AK Chaudhary', 74),\n",
              " ('C Shamshuddin', 73),\n",
              " ('M Erasmus', 59),\n",
              " ('Nitin Menon', 52),\n",
              " ('Asad Rauf', 51),\n",
              " ('CB Gaffaney', 45),\n",
              " ('CK Nandan', 41),\n",
              " ('BR Doctrove', 41)]"
            ]
          },
          "metadata": {},
          "execution_count": 11
        }
      ]
    },
    {
      "cell_type": "markdown",
      "source": [
        "# Count of teams who won the Match after winning the Toss."
      ],
      "metadata": {
        "id": "yLPDnuqU0Cvf"
      }
    },
    {
      "cell_type": "code",
      "source": [
        "r7=r2.filter(lambda row: row.split(\",\")[8]==row.split(\",\")[10])\n",
        "r7=r7.map(lambda row:row.split(\",\")[8])\n",
        "r7=r7.map(lambda team:(team,1))\n",
        "r7=r7.reduceByKey(add)\n",
        "r7=r7.sortBy(lambda x: x[1], ascending = False)\n",
        "\n",
        "r7.collect()"
      ],
      "metadata": {
        "colab": {
          "base_uri": "https://localhost:8080/"
        },
        "id": "taLR9BXk0B46",
        "outputId": "28a8cdc4-35a1-482c-d4d8-e5a81584a944"
      },
      "execution_count": 12,
      "outputs": [
        {
          "output_type": "execute_result",
          "data": {
            "text/plain": [
              "[('Mumbai Indians', 54),\n",
              " ('Kolkata Knight Riders', 51),\n",
              " ('Royal Challengers Bangalore', 39),\n",
              " ('Chennai Super Kings', 37),\n",
              " ('Rajasthan Royals', 36),\n",
              " ('Delhi Daredevils', 31),\n",
              " ('Sunrisers Hyderabad', 19),\n",
              " ('Kings XI Punjab', 18),\n",
              " ('Deccan Chargers', 17),\n",
              " ('Delhi Capitals', 10),\n",
              " ('Gujarat Lions', 8),\n",
              " ('Rising Pune Supergiant', 5),\n",
              " ('Kochi Tuskers Kerala', 4),\n",
              " ('Pune Warriors', 2),\n",
              " ('Rising Pune Supergiants', 2)]"
            ]
          },
          "metadata": {},
          "execution_count": 12
        }
      ]
    }
  ]
}