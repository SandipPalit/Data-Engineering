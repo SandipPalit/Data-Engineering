{
  "nbformat": 4,
  "nbformat_minor": 0,
  "metadata": {
    "colab": {
      "name": "IPL Analysis - SQL.ipynb",
      "provenance": [],
      "collapsed_sections": [
        "SSNoeosNDJF0"
      ]
    },
    "kernelspec": {
      "name": "python3",
      "display_name": "Python 3"
    },
    "language_info": {
      "name": "python"
    }
  },
  "cells": [
    {
      "cell_type": "markdown",
      "source": [
        "# Setup"
      ],
      "metadata": {
        "id": "SSNoeosNDJF0"
      }
    },
    {
      "cell_type": "code",
      "source": [
        "from google.colab import drive\n",
        "drive.mount('/content/drive')\n",
        "\n",
        "!wget https://dlcdn.apache.org/spark/spark-3.3.0/spark-3.3.0-bin-hadoop3.tgz\n",
        "!tar -xvzf spark-3.3.0-bin-hadoop3.tgz\n",
        "!pip install findspark\n",
        "\n",
        "import os\n",
        "os.environ[\"SPARK_HOME\"] = \"/content/spark-3.3.0-bin-hadoop3\"\n",
        "import findspark\n",
        "findspark.init()\n",
        "\n",
        "from pyspark.sql import SparkSession\n",
        "spark = SparkSession.builder.appName(\"IPL Analysis\").getOrCreate()\n",
        "\n",
        "from IPython.display import clear_output \n",
        "clear_output()\n",
        "\n",
        "print(spark.sparkContext.appName ,\"is Running..\")"
      ],
      "metadata": {
        "colab": {
          "base_uri": "https://localhost:8080/"
        },
        "id": "rNLBKdI9NRlJ",
        "outputId": "91b03827-389a-4e55-e49f-0ae6331cc2aa"
      },
      "execution_count": 45,
      "outputs": [
        {
          "output_type": "stream",
          "name": "stdout",
          "text": [
            "IPL Analysis is Running..\n"
          ]
        }
      ]
    },
    {
      "cell_type": "markdown",
      "source": [
        "# Data Exploration"
      ],
      "metadata": {
        "id": "Lv7IBAvZDEd3"
      }
    },
    {
      "cell_type": "code",
      "source": [
        "df1=spark.read.option(\"inferSchema\", \"true\").option(\"header\", \"true\").csv(\"/content/drive/MyDrive/Colab Notebooks/SparkData/IPL Matches.csv\")\n",
        "df1.createOrReplaceTempView(\"ipl\");"
      ],
      "metadata": {
        "id": "waY6AI9yN0Qj"
      },
      "execution_count": 46,
      "outputs": []
    },
    {
      "cell_type": "code",
      "source": [
        "spark.sql(\"SHOW TABLES\")"
      ],
      "metadata": {
        "colab": {
          "base_uri": "https://localhost:8080/"
        },
        "id": "VrLFM4QcQaxF",
        "outputId": "937a166c-3909-4a85-d949-df1a799aa096"
      },
      "execution_count": 47,
      "outputs": [
        {
          "output_type": "execute_result",
          "data": {
            "text/plain": [
              "DataFrame[namespace: string, tableName: string, isTemporary: boolean]"
            ]
          },
          "metadata": {},
          "execution_count": 47
        }
      ]
    },
    {
      "cell_type": "code",
      "source": [
        "spark.sql(\"desc ipl\").show()"
      ],
      "metadata": {
        "colab": {
          "base_uri": "https://localhost:8080/"
        },
        "id": "6mbvNn52RxsH",
        "outputId": "3b1469e7-3922-4119-f687-20252565eabd"
      },
      "execution_count": 48,
      "outputs": [
        {
          "output_type": "stream",
          "name": "stdout",
          "text": [
            "+---------------+---------+-------+\n",
            "|       col_name|data_type|comment|\n",
            "+---------------+---------+-------+\n",
            "|             id|      int|   null|\n",
            "|           city|   string|   null|\n",
            "|           date|timestamp|   null|\n",
            "|player_of_match|   string|   null|\n",
            "|          venue|   string|   null|\n",
            "|  neutral_venue|      int|   null|\n",
            "|          team1|   string|   null|\n",
            "|          team2|   string|   null|\n",
            "|    toss_winner|   string|   null|\n",
            "|  toss_decision|   string|   null|\n",
            "|         winner|   string|   null|\n",
            "|         result|   string|   null|\n",
            "|  result_margin|   string|   null|\n",
            "|     eliminator|   string|   null|\n",
            "|         method|   string|   null|\n",
            "|        umpire1|   string|   null|\n",
            "|        umpire2|   string|   null|\n",
            "+---------------+---------+-------+\n",
            "\n"
          ]
        }
      ]
    },
    {
      "cell_type": "code",
      "source": [
        "spark.sql(\"select count(*) count from ipl\").show()"
      ],
      "metadata": {
        "colab": {
          "base_uri": "https://localhost:8080/"
        },
        "id": "eCfwf5M4Rjzw",
        "outputId": "c788872c-a5fd-4c46-a00c-ca3c2eef2830"
      },
      "execution_count": 49,
      "outputs": [
        {
          "output_type": "stream",
          "name": "stdout",
          "text": [
            "+-----+\n",
            "|count|\n",
            "+-----+\n",
            "|  816|\n",
            "+-----+\n",
            "\n"
          ]
        }
      ]
    },
    {
      "cell_type": "code",
      "source": [
        "spark.sql(\"select * from ipl limit 10\").show()"
      ],
      "metadata": {
        "colab": {
          "base_uri": "https://localhost:8080/"
        },
        "id": "Nc8NQDpYQwfL",
        "outputId": "6005a69e-e01a-4ec8-bae8-6d61eaf13420"
      },
      "execution_count": 50,
      "outputs": [
        {
          "output_type": "stream",
          "name": "stdout",
          "text": [
            "+------+----------+-------------------+---------------+--------------------+-------------+--------------------+--------------------+--------------------+-------------+--------------------+-------+-------------+----------+------+---------+--------------+\n",
            "|    id|      city|               date|player_of_match|               venue|neutral_venue|               team1|               team2|         toss_winner|toss_decision|              winner| result|result_margin|eliminator|method|  umpire1|       umpire2|\n",
            "+------+----------+-------------------+---------------+--------------------+-------------+--------------------+--------------------+--------------------+-------------+--------------------+-------+-------------+----------+------+---------+--------------+\n",
            "|335982| Bangalore|2008-04-18 00:00:00|    BB McCullum|M Chinnaswamy Sta...|            0|Royal Challengers...|Kolkata Knight Ri...|Royal Challengers...|        field|Kolkata Knight Ri...|   runs|          140|         N|    NA|Asad Rauf|   RE Koertzen|\n",
            "|335983|Chandigarh|2008-04-19 00:00:00|     MEK Hussey|Punjab Cricket As...|            0|     Kings XI Punjab| Chennai Super Kings| Chennai Super Kings|          bat| Chennai Super Kings|   runs|           33|         N|    NA|MR Benson|    SL Shastri|\n",
            "|335984|     Delhi|2008-04-19 00:00:00|    MF Maharoof|    Feroz Shah Kotla|            0|    Delhi Daredevils|    Rajasthan Royals|    Rajasthan Royals|          bat|    Delhi Daredevils|wickets|            9|         N|    NA|Aleem Dar|GA Pratapkumar|\n",
            "|335985|    Mumbai|2008-04-20 00:00:00|     MV Boucher|    Wankhede Stadium|            0|      Mumbai Indians|Royal Challengers...|      Mumbai Indians|          bat|Royal Challengers...|wickets|            5|         N|    NA| SJ Davis|     DJ Harper|\n",
            "|335986|   Kolkata|2008-04-20 00:00:00|      DJ Hussey|        Eden Gardens|            0|Kolkata Knight Ri...|     Deccan Chargers|     Deccan Chargers|          bat|Kolkata Knight Ri...|wickets|            5|         N|    NA|BF Bowden|   K Hariharan|\n",
            "|335987|    Jaipur|2008-04-21 00:00:00|      SR Watson|Sawai Mansingh St...|            0|    Rajasthan Royals|     Kings XI Punjab|     Kings XI Punjab|          bat|    Rajasthan Royals|wickets|            6|         N|    NA|Aleem Dar|     RB Tiffin|\n",
            "|335988| Hyderabad|2008-04-22 00:00:00|       V Sehwag|Rajiv Gandhi Inte...|            0|     Deccan Chargers|    Delhi Daredevils|     Deccan Chargers|          bat|    Delhi Daredevils|wickets|            9|         N|    NA|IL Howell|     AM Saheba|\n",
            "|335989|   Chennai|2008-04-23 00:00:00|      ML Hayden|MA Chidambaram St...|            0| Chennai Super Kings|      Mumbai Indians|      Mumbai Indians|        field| Chennai Super Kings|   runs|            6|         N|    NA|DJ Harper|GA Pratapkumar|\n",
            "|335990| Hyderabad|2008-04-24 00:00:00|      YK Pathan|Rajiv Gandhi Inte...|            0|     Deccan Chargers|    Rajasthan Royals|    Rajasthan Royals|        field|    Rajasthan Royals|wickets|            3|         N|    NA|Asad Rauf|     MR Benson|\n",
            "|335991|Chandigarh|2008-04-25 00:00:00|  KC Sangakkara|Punjab Cricket As...|            0|     Kings XI Punjab|      Mumbai Indians|      Mumbai Indians|        field|     Kings XI Punjab|   runs|           66|         N|    NA|Aleem Dar|     AM Saheba|\n",
            "+------+----------+-------------------+---------------+--------------------+-------------+--------------------+--------------------+--------------------+-------------+--------------------+-------+-------------+----------+------+---------+--------------+\n",
            "\n"
          ]
        }
      ]
    },
    {
      "cell_type": "markdown",
      "source": [
        "# Counting the number of matches played in each city."
      ],
      "metadata": {
        "id": "Lr6gFClKBHlT"
      }
    },
    {
      "cell_type": "code",
      "source": [
        "spark.sql(\"select city,count(*) count from ipl group by city order by count(*) desc\").show()"
      ],
      "metadata": {
        "colab": {
          "base_uri": "https://localhost:8080/"
        },
        "id": "mUsCmAc9r78P",
        "outputId": "a2ff65f0-e5c8-46e1-8767-9fedac4e40a9"
      },
      "execution_count": 51,
      "outputs": [
        {
          "output_type": "stream",
          "name": "stdout",
          "text": [
            "+-------------+-----+\n",
            "|         city|count|\n",
            "+-------------+-----+\n",
            "|       Mumbai|  101|\n",
            "|      Kolkata|   77|\n",
            "|        Delhi|   74|\n",
            "|    Bangalore|   65|\n",
            "|    Hyderabad|   64|\n",
            "|      Chennai|   57|\n",
            "|   Chandigarh|   56|\n",
            "|       Jaipur|   47|\n",
            "|         Pune|   38|\n",
            "|    Abu Dhabi|   29|\n",
            "|        Dubai|   26|\n",
            "|       Durban|   15|\n",
            "|    Bengaluru|   15|\n",
            "|Visakhapatnam|   13|\n",
            "|           NA|   13|\n",
            "|    Ahmedabad|   12|\n",
            "|      Sharjah|   12|\n",
            "|    Centurion|   12|\n",
            "|       Rajkot|   10|\n",
            "|   Dharamsala|    9|\n",
            "+-------------+-----+\n",
            "only showing top 20 rows\n",
            "\n"
          ]
        }
      ]
    },
    {
      "cell_type": "markdown",
      "source": [
        "# Counting the number of matches won by each team in 2014."
      ],
      "metadata": {
        "id": "IizZyzhABOtg"
      }
    },
    {
      "cell_type": "code",
      "source": [
        "spark.sql(\"select winner,count(*) count from ipl where date like '2014-%' group by winner order by count(*) desc\").show()"
      ],
      "metadata": {
        "colab": {
          "base_uri": "https://localhost:8080/"
        },
        "id": "jRWCcK9BsUIq",
        "outputId": "2c2ffbb6-3c4d-40cd-e378-48a1df5a6e16"
      },
      "execution_count": 52,
      "outputs": [
        {
          "output_type": "stream",
          "name": "stdout",
          "text": [
            "+--------------------+-----+\n",
            "|              winner|count|\n",
            "+--------------------+-----+\n",
            "|     Kings XI Punjab|   12|\n",
            "|Kolkata Knight Ri...|   11|\n",
            "| Chennai Super Kings|   10|\n",
            "|      Mumbai Indians|    7|\n",
            "|    Rajasthan Royals|    7|\n",
            "| Sunrisers Hyderabad|    6|\n",
            "|Royal Challengers...|    5|\n",
            "|    Delhi Daredevils|    2|\n",
            "+--------------------+-----+\n",
            "\n"
          ]
        }
      ]
    },
    {
      "cell_type": "markdown",
      "source": [
        "# Finding the Player who won the most MOM award."
      ],
      "metadata": {
        "id": "AeHjCVAnBfkY"
      }
    },
    {
      "cell_type": "code",
      "source": [
        "spark.sql(\"select player_of_match,count(*) count from ipl group by player_of_match order by count(*) desc\").show()"
      ],
      "metadata": {
        "colab": {
          "base_uri": "https://localhost:8080/"
        },
        "id": "npkFavGKs0wU",
        "outputId": "543eb78c-007a-44bd-d8e2-546ba1811357"
      },
      "execution_count": 53,
      "outputs": [
        {
          "output_type": "stream",
          "name": "stdout",
          "text": [
            "+---------------+-----+\n",
            "|player_of_match|count|\n",
            "+---------------+-----+\n",
            "| AB de Villiers|   23|\n",
            "|       CH Gayle|   22|\n",
            "|      RG Sharma|   18|\n",
            "|      DA Warner|   17|\n",
            "|       MS Dhoni|   17|\n",
            "|      SR Watson|   16|\n",
            "|      YK Pathan|   16|\n",
            "|       SK Raina|   14|\n",
            "|      G Gambhir|   13|\n",
            "|        V Kohli|   13|\n",
            "|     MEK Hussey|   12|\n",
            "|      AM Rahane|   12|\n",
            "|     KA Pollard|   11|\n",
            "|       DR Smith|   11|\n",
            "|     AD Russell|   11|\n",
            "|       A Mishra|   11|\n",
            "|       V Sehwag|   11|\n",
            "|      JH Kallis|   10|\n",
            "|      AT Rayudu|   10|\n",
            "|       SE Marsh|    9|\n",
            "+---------------+-----+\n",
            "only showing top 20 rows\n",
            "\n"
          ]
        }
      ]
    },
    {
      "cell_type": "markdown",
      "source": [
        "# Find the top 10 umpires who was present in most of the matches."
      ],
      "metadata": {
        "id": "bMX4sDBaBufd"
      }
    },
    {
      "cell_type": "code",
      "source": [
        "spark.sql(\"select umpire,count(*) from ((select umpire1 umpire from ipl) union all (select umpire2 umpire from ipl)) group by umpire order by count(*) desc limit 10\").show()"
      ],
      "metadata": {
        "colab": {
          "base_uri": "https://localhost:8080/"
        },
        "id": "cUCX6U1ItJs4",
        "outputId": "c8f1dcd0-4769-4891-dfed-14c32553e584"
      },
      "execution_count": 54,
      "outputs": [
        {
          "output_type": "stream",
          "name": "stdout",
          "text": [
            "+---------------+--------+\n",
            "|         umpire|count(1)|\n",
            "+---------------+--------+\n",
            "|         S Ravi|     121|\n",
            "|HDPK Dharmasena|      94|\n",
            "|   AK Chaudhary|      87|\n",
            "|  C Shamshuddin|      82|\n",
            "|      M Erasmus|      65|\n",
            "|      CK Nandan|      57|\n",
            "|    Nitin Menon|      57|\n",
            "|     SJA Taufel|      55|\n",
            "|      Asad Rauf|      51|\n",
            "|    VA Kulkarni|      50|\n",
            "+---------------+--------+\n",
            "\n"
          ]
        }
      ]
    },
    {
      "cell_type": "markdown",
      "source": [
        "# Count of teams who won the Match after winning the Toss."
      ],
      "metadata": {
        "id": "yLPDnuqU0Cvf"
      }
    },
    {
      "cell_type": "code",
      "source": [
        "spark.sql(\"select winner,count(*) count from ipl where toss_winner = winner group by winner order by count(*) desc\").show()"
      ],
      "metadata": {
        "colab": {
          "base_uri": "https://localhost:8080/"
        },
        "id": "Q_Zsc4p-uA2h",
        "outputId": "d81972d5-9282-45b0-cc76-a7ba2cf1bcba"
      },
      "execution_count": 55,
      "outputs": [
        {
          "output_type": "stream",
          "name": "stdout",
          "text": [
            "+--------------------+-----+\n",
            "|              winner|count|\n",
            "+--------------------+-----+\n",
            "|      Mumbai Indians|   61|\n",
            "| Chennai Super Kings|   61|\n",
            "|Kolkata Knight Ri...|   55|\n",
            "|    Rajasthan Royals|   44|\n",
            "|Royal Challengers...|   43|\n",
            "|     Kings XI Punjab|   36|\n",
            "|    Delhi Daredevils|   35|\n",
            "| Sunrisers Hyderabad|   29|\n",
            "|     Deccan Chargers|   19|\n",
            "|      Delhi Capitals|   10|\n",
            "|       Gujarat Lions|   10|\n",
            "|Rising Pune Super...|    5|\n",
            "|Kochi Tuskers Kerala|    4|\n",
            "|Rising Pune Super...|    3|\n",
            "|       Pune Warriors|    3|\n",
            "+--------------------+-----+\n",
            "\n"
          ]
        }
      ]
    }
  ]
}