{
  "nbformat": 4,
  "nbformat_minor": 0,
  "metadata": {
    "colab": {
      "name": "IPL Analysis - Dataframe.ipynb",
      "provenance": [],
      "collapsed_sections": [
        "SSNoeosNDJF0"
      ]
    },
    "kernelspec": {
      "name": "python3",
      "display_name": "Python 3"
    },
    "language_info": {
      "name": "python"
    }
  },
  "cells": [
    {
      "cell_type": "markdown",
      "source": [
        "# Setup"
      ],
      "metadata": {
        "id": "SSNoeosNDJF0"
      }
    },
    {
      "cell_type": "code",
      "source": [
        "from google.colab import drive\n",
        "drive.mount('/content/drive')\n",
        "\n",
        "!wget https://dlcdn.apache.org/spark/spark-3.3.0/spark-3.3.0-bin-hadoop3.tgz\n",
        "!tar -xvzf spark-3.3.0-bin-hadoop3.tgz\n",
        "!pip install findspark\n",
        "\n",
        "import os\n",
        "os.environ[\"SPARK_HOME\"] = \"/content/spark-3.3.0-bin-hadoop3\"\n",
        "import findspark\n",
        "findspark.init()\n",
        "\n",
        "from pyspark.sql import SparkSession\n",
        "spark = SparkSession.builder.appName(\"IPL Analysis\").getOrCreate()\n",
        "\n",
        "from IPython.display import clear_output \n",
        "clear_output()\n",
        "\n",
        "print(spark.sparkContext.appName ,\"is Running..\")"
      ],
      "metadata": {
        "colab": {
          "base_uri": "https://localhost:8080/"
        },
        "id": "e0MQOZJB3HXV",
        "outputId": "dd69c1bb-04a3-415e-d006-92157d3df9e5"
      },
      "execution_count": 1,
      "outputs": [
        {
          "output_type": "stream",
          "name": "stdout",
          "text": [
            "IPL Analysis is Running..\n"
          ]
        }
      ]
    },
    {
      "cell_type": "markdown",
      "source": [
        "# Data Exploration"
      ],
      "metadata": {
        "id": "Lv7IBAvZDEd3"
      }
    },
    {
      "cell_type": "code",
      "source": [
        "from pyspark.sql.functions import year"
      ],
      "metadata": {
        "id": "hhq8OIPB__-j"
      },
      "execution_count": 2,
      "outputs": []
    },
    {
      "cell_type": "code",
      "source": [
        "df1=spark.read.option(\"inferSchema\", \"true\").option(\"header\", \"true\").csv(\"/content/drive/MyDrive/Colab Notebooks/SparkData/IPL Matches.csv\")"
      ],
      "metadata": {
        "id": "W0QC-wje4fpj"
      },
      "execution_count": 3,
      "outputs": []
    },
    {
      "cell_type": "code",
      "source": [
        "df1.printSchema()"
      ],
      "metadata": {
        "colab": {
          "base_uri": "https://localhost:8080/"
        },
        "id": "X9o8eb6z59ZI",
        "outputId": "5572fd02-a8e6-4ee6-864e-a03154d83523"
      },
      "execution_count": 4,
      "outputs": [
        {
          "output_type": "stream",
          "name": "stdout",
          "text": [
            "root\n",
            " |-- id: integer (nullable = true)\n",
            " |-- city: string (nullable = true)\n",
            " |-- date: timestamp (nullable = true)\n",
            " |-- player_of_match: string (nullable = true)\n",
            " |-- venue: string (nullable = true)\n",
            " |-- neutral_venue: integer (nullable = true)\n",
            " |-- team1: string (nullable = true)\n",
            " |-- team2: string (nullable = true)\n",
            " |-- toss_winner: string (nullable = true)\n",
            " |-- toss_decision: string (nullable = true)\n",
            " |-- winner: string (nullable = true)\n",
            " |-- result: string (nullable = true)\n",
            " |-- result_margin: string (nullable = true)\n",
            " |-- eliminator: string (nullable = true)\n",
            " |-- method: string (nullable = true)\n",
            " |-- umpire1: string (nullable = true)\n",
            " |-- umpire2: string (nullable = true)\n",
            "\n"
          ]
        }
      ]
    },
    {
      "cell_type": "code",
      "source": [
        "df1.count()"
      ],
      "metadata": {
        "colab": {
          "base_uri": "https://localhost:8080/"
        },
        "id": "-ACJR93I6D_N",
        "outputId": "edd8b525-24a7-4503-eca5-8996f518bc1a"
      },
      "execution_count": 5,
      "outputs": [
        {
          "output_type": "execute_result",
          "data": {
            "text/plain": [
              "816"
            ]
          },
          "metadata": {},
          "execution_count": 5
        }
      ]
    },
    {
      "cell_type": "code",
      "source": [
        "df1.head(10)"
      ],
      "metadata": {
        "colab": {
          "base_uri": "https://localhost:8080/"
        },
        "id": "ZqIjFCAI6NxJ",
        "outputId": "a3529139-65d1-4798-d888-7136fe7ad1db"
      },
      "execution_count": 6,
      "outputs": [
        {
          "output_type": "execute_result",
          "data": {
            "text/plain": [
              "[Row(id=335982, city='Bangalore', date=datetime.datetime(2008, 4, 18, 0, 0), player_of_match='BB McCullum', venue='M Chinnaswamy Stadium', neutral_venue=0, team1='Royal Challengers Bangalore', team2='Kolkata Knight Riders', toss_winner='Royal Challengers Bangalore', toss_decision='field', winner='Kolkata Knight Riders', result='runs', result_margin='140', eliminator='N', method='NA', umpire1='Asad Rauf', umpire2='RE Koertzen'),\n",
              " Row(id=335983, city='Chandigarh', date=datetime.datetime(2008, 4, 19, 0, 0), player_of_match='MEK Hussey', venue='Punjab Cricket Association Stadium, Mohali', neutral_venue=0, team1='Kings XI Punjab', team2='Chennai Super Kings', toss_winner='Chennai Super Kings', toss_decision='bat', winner='Chennai Super Kings', result='runs', result_margin='33', eliminator='N', method='NA', umpire1='MR Benson', umpire2='SL Shastri'),\n",
              " Row(id=335984, city='Delhi', date=datetime.datetime(2008, 4, 19, 0, 0), player_of_match='MF Maharoof', venue='Feroz Shah Kotla', neutral_venue=0, team1='Delhi Daredevils', team2='Rajasthan Royals', toss_winner='Rajasthan Royals', toss_decision='bat', winner='Delhi Daredevils', result='wickets', result_margin='9', eliminator='N', method='NA', umpire1='Aleem Dar', umpire2='GA Pratapkumar'),\n",
              " Row(id=335985, city='Mumbai', date=datetime.datetime(2008, 4, 20, 0, 0), player_of_match='MV Boucher', venue='Wankhede Stadium', neutral_venue=0, team1='Mumbai Indians', team2='Royal Challengers Bangalore', toss_winner='Mumbai Indians', toss_decision='bat', winner='Royal Challengers Bangalore', result='wickets', result_margin='5', eliminator='N', method='NA', umpire1='SJ Davis', umpire2='DJ Harper'),\n",
              " Row(id=335986, city='Kolkata', date=datetime.datetime(2008, 4, 20, 0, 0), player_of_match='DJ Hussey', venue='Eden Gardens', neutral_venue=0, team1='Kolkata Knight Riders', team2='Deccan Chargers', toss_winner='Deccan Chargers', toss_decision='bat', winner='Kolkata Knight Riders', result='wickets', result_margin='5', eliminator='N', method='NA', umpire1='BF Bowden', umpire2='K Hariharan'),\n",
              " Row(id=335987, city='Jaipur', date=datetime.datetime(2008, 4, 21, 0, 0), player_of_match='SR Watson', venue='Sawai Mansingh Stadium', neutral_venue=0, team1='Rajasthan Royals', team2='Kings XI Punjab', toss_winner='Kings XI Punjab', toss_decision='bat', winner='Rajasthan Royals', result='wickets', result_margin='6', eliminator='N', method='NA', umpire1='Aleem Dar', umpire2='RB Tiffin'),\n",
              " Row(id=335988, city='Hyderabad', date=datetime.datetime(2008, 4, 22, 0, 0), player_of_match='V Sehwag', venue='Rajiv Gandhi International Stadium, Uppal', neutral_venue=0, team1='Deccan Chargers', team2='Delhi Daredevils', toss_winner='Deccan Chargers', toss_decision='bat', winner='Delhi Daredevils', result='wickets', result_margin='9', eliminator='N', method='NA', umpire1='IL Howell', umpire2='AM Saheba'),\n",
              " Row(id=335989, city='Chennai', date=datetime.datetime(2008, 4, 23, 0, 0), player_of_match='ML Hayden', venue='MA Chidambaram Stadium, Chepauk', neutral_venue=0, team1='Chennai Super Kings', team2='Mumbai Indians', toss_winner='Mumbai Indians', toss_decision='field', winner='Chennai Super Kings', result='runs', result_margin='6', eliminator='N', method='NA', umpire1='DJ Harper', umpire2='GA Pratapkumar'),\n",
              " Row(id=335990, city='Hyderabad', date=datetime.datetime(2008, 4, 24, 0, 0), player_of_match='YK Pathan', venue='Rajiv Gandhi International Stadium, Uppal', neutral_venue=0, team1='Deccan Chargers', team2='Rajasthan Royals', toss_winner='Rajasthan Royals', toss_decision='field', winner='Rajasthan Royals', result='wickets', result_margin='3', eliminator='N', method='NA', umpire1='Asad Rauf', umpire2='MR Benson'),\n",
              " Row(id=335991, city='Chandigarh', date=datetime.datetime(2008, 4, 25, 0, 0), player_of_match='KC Sangakkara', venue='Punjab Cricket Association Stadium, Mohali', neutral_venue=0, team1='Kings XI Punjab', team2='Mumbai Indians', toss_winner='Mumbai Indians', toss_decision='field', winner='Kings XI Punjab', result='runs', result_margin='66', eliminator='N', method='NA', umpire1='Aleem Dar', umpire2='AM Saheba')]"
            ]
          },
          "metadata": {},
          "execution_count": 6
        }
      ]
    },
    {
      "cell_type": "markdown",
      "source": [
        "# Counting the number of matches played in each city."
      ],
      "metadata": {
        "id": "Lr6gFClKBHlT"
      }
    },
    {
      "cell_type": "code",
      "source": [
        "df2=df1.groupBy('city').count()\n",
        "df2=df2.orderBy(\"count\",ascending=False)\n",
        "\n",
        "df2.show(truncate=False)"
      ],
      "metadata": {
        "colab": {
          "base_uri": "https://localhost:8080/"
        },
        "id": "nAPmI50d6qXF",
        "outputId": "48dbd90c-602c-4e0c-eb86-af2a277fc686"
      },
      "execution_count": 7,
      "outputs": [
        {
          "output_type": "stream",
          "name": "stdout",
          "text": [
            "+-------------+-----+\n",
            "|city         |count|\n",
            "+-------------+-----+\n",
            "|Mumbai       |101  |\n",
            "|Kolkata      |77   |\n",
            "|Delhi        |74   |\n",
            "|Bangalore    |65   |\n",
            "|Hyderabad    |64   |\n",
            "|Chennai      |57   |\n",
            "|Chandigarh   |56   |\n",
            "|Jaipur       |47   |\n",
            "|Pune         |38   |\n",
            "|Abu Dhabi    |29   |\n",
            "|Dubai        |26   |\n",
            "|Durban       |15   |\n",
            "|Bengaluru    |15   |\n",
            "|Visakhapatnam|13   |\n",
            "|NA           |13   |\n",
            "|Ahmedabad    |12   |\n",
            "|Sharjah      |12   |\n",
            "|Centurion    |12   |\n",
            "|Rajkot       |10   |\n",
            "|Dharamsala   |9    |\n",
            "+-------------+-----+\n",
            "only showing top 20 rows\n",
            "\n"
          ]
        }
      ]
    },
    {
      "cell_type": "markdown",
      "source": [
        "# Counting the number of matches won by each team in 2014."
      ],
      "metadata": {
        "id": "IizZyzhABOtg"
      }
    },
    {
      "cell_type": "code",
      "source": [
        "df3=df1.filter(year(df1.date) == \"2014\")\n",
        "df3=df3.groupBy('winner').count()\n",
        "df3=df3.orderBy(\"count\",ascending=False)\n",
        "\n",
        "df3.show(truncate=False)"
      ],
      "metadata": {
        "colab": {
          "base_uri": "https://localhost:8080/"
        },
        "id": "Pm3Thl___YVi",
        "outputId": "67878c56-b801-4d27-897c-d2f87f41ffa0"
      },
      "execution_count": 8,
      "outputs": [
        {
          "output_type": "stream",
          "name": "stdout",
          "text": [
            "+---------------------------+-----+\n",
            "|winner                     |count|\n",
            "+---------------------------+-----+\n",
            "|Kings XI Punjab            |12   |\n",
            "|Kolkata Knight Riders      |11   |\n",
            "|Chennai Super Kings        |10   |\n",
            "|Mumbai Indians             |7    |\n",
            "|Rajasthan Royals           |7    |\n",
            "|Sunrisers Hyderabad        |6    |\n",
            "|Royal Challengers Bangalore|5    |\n",
            "|Delhi Daredevils           |2    |\n",
            "+---------------------------+-----+\n",
            "\n"
          ]
        }
      ]
    },
    {
      "cell_type": "markdown",
      "source": [
        "# Finding the Player who won the most MOM award."
      ],
      "metadata": {
        "id": "AeHjCVAnBfkY"
      }
    },
    {
      "cell_type": "code",
      "source": [
        "df4=df1.groupBy('player_of_match').count()\n",
        "df4=df4.orderBy(\"count\",ascending=False)\n",
        "\n",
        "df4.show(1,truncate=False)"
      ],
      "metadata": {
        "colab": {
          "base_uri": "https://localhost:8080/"
        },
        "id": "oWXw0R4bBb8W",
        "outputId": "d6df5083-4454-41af-e4ec-1a871a782624"
      },
      "execution_count": 9,
      "outputs": [
        {
          "output_type": "stream",
          "name": "stdout",
          "text": [
            "+---------------+-----+\n",
            "|player_of_match|count|\n",
            "+---------------+-----+\n",
            "|AB de Villiers |23   |\n",
            "+---------------+-----+\n",
            "only showing top 1 row\n",
            "\n"
          ]
        }
      ]
    },
    {
      "cell_type": "markdown",
      "source": [
        "# Find the top 10 umpires who was present in most of the matches."
      ],
      "metadata": {
        "id": "bMX4sDBaBufd"
      }
    },
    {
      "cell_type": "code",
      "source": [
        "df5=df1.select('umpire1').union(df1.select('umpire2'))\n",
        "df5=df5.filter(df5.umpire1!='NA')\n",
        "df5=df5.groupBy('umpire1').count()\n",
        "df5=df5.orderBy(\"count\",ascending=False)\n",
        "\n",
        "df5.show(10,truncate=False)"
      ],
      "metadata": {
        "colab": {
          "base_uri": "https://localhost:8080/"
        },
        "id": "ze_Yxb0fDQ8d",
        "outputId": "5c74a357-e5aa-48f4-f059-7fb5c12b7005"
      },
      "execution_count": 10,
      "outputs": [
        {
          "output_type": "stream",
          "name": "stdout",
          "text": [
            "+---------------+-----+\n",
            "|umpire1        |count|\n",
            "+---------------+-----+\n",
            "|S Ravi         |121  |\n",
            "|HDPK Dharmasena|94   |\n",
            "|AK Chaudhary   |87   |\n",
            "|C Shamshuddin  |82   |\n",
            "|M Erasmus      |65   |\n",
            "|CK Nandan      |57   |\n",
            "|Nitin Menon    |57   |\n",
            "|SJA Taufel     |55   |\n",
            "|Asad Rauf      |51   |\n",
            "|VA Kulkarni    |50   |\n",
            "+---------------+-----+\n",
            "only showing top 10 rows\n",
            "\n"
          ]
        }
      ]
    },
    {
      "cell_type": "markdown",
      "source": [
        "# Count of teams who won the Match after winning the Toss."
      ],
      "metadata": {
        "id": "yLPDnuqU0Cvf"
      }
    },
    {
      "cell_type": "code",
      "source": [
        "df6=df1.filter(df1.toss_winner==df1.winner)\n",
        "df6=df6.groupBy('winner').count()\n",
        "df6=df6.orderBy(\"count\",ascending=False)\n",
        "\n",
        "df6.show(truncate=False)"
      ],
      "metadata": {
        "colab": {
          "base_uri": "https://localhost:8080/"
        },
        "id": "YAefBOKdEcLN",
        "outputId": "a6ad5024-5cfc-4dfc-f53a-1b2538494601"
      },
      "execution_count": 11,
      "outputs": [
        {
          "output_type": "stream",
          "name": "stdout",
          "text": [
            "+---------------------------+-----+\n",
            "|winner                     |count|\n",
            "+---------------------------+-----+\n",
            "|Mumbai Indians             |61   |\n",
            "|Chennai Super Kings        |61   |\n",
            "|Kolkata Knight Riders      |55   |\n",
            "|Rajasthan Royals           |44   |\n",
            "|Royal Challengers Bangalore|43   |\n",
            "|Kings XI Punjab            |36   |\n",
            "|Delhi Daredevils           |35   |\n",
            "|Sunrisers Hyderabad        |29   |\n",
            "|Deccan Chargers            |19   |\n",
            "|Delhi Capitals             |10   |\n",
            "|Gujarat Lions              |10   |\n",
            "|Rising Pune Supergiant     |5    |\n",
            "|Kochi Tuskers Kerala       |4    |\n",
            "|Rising Pune Supergiants    |3    |\n",
            "|Pune Warriors              |3    |\n",
            "+---------------------------+-----+\n",
            "\n"
          ]
        }
      ]
    }
  ]
}